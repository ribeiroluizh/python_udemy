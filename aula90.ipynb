{
 "cells": [
  {
   "cell_type": "markdown",
   "metadata": {},
   "source": [
    "# DICT COMPREHENSION \n",
    "\n",
    "Da mesma forma que a list comprehension funciona, a dict comprehension também pode ser utilizada, logicamente passando \"chave\" e \"valor\" nos argumentos, a sintaxe fica da seguinte forma\n",
    "\n",
    "dicionario_comprehension = {chave: valor for chave, valor in (iteração de chave valor, pode ser por exemplo uma tupla)}"
   ]
  },
  {
   "cell_type": "code",
   "execution_count": 8,
   "metadata": {},
   "outputs": [
    {
     "name": "stdout",
     "output_type": "stream",
     "text": [
      "{'luiz': 31, 'bruna': 37, 'laura': 6}\n"
     ]
    }
   ],
   "source": [
    "nomes = ['luiz', 'bruna','laura']\n",
    "\n",
    "idades = [31, 37, 6]\n",
    "\n",
    "nome_idade = {chave:valor for chave, valor in zip(nomes,idades)}\n",
    "\n",
    "print(nome_idade)"
   ]
  },
  {
   "cell_type": "code",
   "execution_count": 9,
   "metadata": {},
   "outputs": [
    {
     "name": "stdout",
     "output_type": "stream",
     "text": [
      "{'nome': 'CANETA AZUL', 'preco': 2.5, 'categoria': 'ESCRITÓRIO'}\n"
     ]
    }
   ],
   "source": [
    "produto = {\n",
    "    'nome': 'Caneta Azul',\n",
    "    'preco': 2.5,\n",
    "    'categoria': 'escritório',\n",
    "}\n",
    "\n",
    "dc = {chave: valor\n",
    "      if isinstance(valor, (int, float)) else valor.upper()\n",
    "       for chave, valor in produto.items()}\n",
    "\n",
    "print(dc)\n",
    "\n",
    "# isinstance vai checar se a variavel é do tipo (int,float), usando o if.\n"
   ]
  },
  {
   "cell_type": "code",
   "execution_count": 10,
   "metadata": {},
   "outputs": [
    {
     "data": {
      "text/plain": [
       "{'a': 'valor a', 'b': 'valor b', 'c': 'valor c'}"
      ]
     },
     "execution_count": 10,
     "metadata": {},
     "output_type": "execute_result"
    }
   ],
   "source": [
    "lista = [ \n",
    "    ('a', 'valor a'),\n",
    "    ('b', 'valor b'),\n",
    "    ('c', 'valor c'),\n",
    "]\n",
    "\n",
    "dc = {\n",
    "    chave: valor for chave, valor in lista\n",
    "}\n",
    "dc"
   ]
  },
  {
   "cell_type": "code",
   "execution_count": 11,
   "metadata": {},
   "outputs": [
    {
     "data": {
      "text/plain": [
       "{0, 1, 2, 3, 4, 5, 6, 7, 8, 9}"
      ]
     },
     "execution_count": 11,
     "metadata": {},
     "output_type": "execute_result"
    }
   ],
   "source": [
    "s1 = { i for i in range(10)}\n",
    "\n",
    "s1"
   ]
  },
  {
   "cell_type": "markdown",
   "metadata": {},
   "source": [
    "# IS Instance\n",
    "\n",
    "isinstance() é uma função para saber se o objeto é de determinado tipo.\n",
    "significa 'é instancia de'.\n",
    "eu posso chegar mais de um tipo, então é comum eu fazer\n",
    "isinstance(item, (int, float)) (ou int ou float)\n",
    "\n",
    "\n"
   ]
  },
  {
   "cell_type": "code",
   "execution_count": 12,
   "metadata": {},
   "outputs": [
    {
     "name": "stdout",
     "output_type": "stream",
     "text": [
      "a\n"
     ]
    }
   ],
   "source": [
    "lista = [\n",
    "    'a',1,1.1,True, [0,1,2],(1,2),{0,1},{'nome': 'Luiz'}\n",
    "]\n",
    "\n",
    "for item in lista:\n",
    "    if isinstance(item, str):\n",
    "        item.islower()\n",
    "        print(item)"
   ]
  },
  {
   "cell_type": "markdown",
   "metadata": {},
   "source": []
  }
 ],
 "metadata": {
  "kernelspec": {
   "display_name": "Python 3",
   "language": "python",
   "name": "python3"
  },
  "language_info": {
   "codemirror_mode": {
    "name": "ipython",
    "version": 3
   },
   "file_extension": ".py",
   "mimetype": "text/x-python",
   "name": "python",
   "nbconvert_exporter": "python",
   "pygments_lexer": "ipython3",
   "version": "3.11.7"
  }
 },
 "nbformat": 4,
 "nbformat_minor": 2
}
