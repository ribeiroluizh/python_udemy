{
 "cells": [
  {
   "cell_type": "markdown",
   "metadata": {},
   "source": [
    "# Valores Truthy e Falsy, tipos mutáveis e imutáveis\n",
    "# Mutáveis [] {} set()\n",
    "# Imutáveis () '' 0 0.0 None False range(0,10)\n",
    "\n",
    "lista = []\n",
    "dicionario = {}\n",
    "conjunto = set()\n",
    "tupla = ()\n",
    "string = ''\n",
    "inteiro = 0\n",
    "flutuante = 0.0\n",
    "nada = None\n",
    "false = False\n",
    "intervalo = range(0)"
   ]
  },
  {
   "cell_type": "code",
   "execution_count": 1,
   "metadata": {},
   "outputs": [
    {
     "name": "stdout",
     "output_type": "stream",
     "text": [
      "Luiz\n"
     ]
    }
   ],
   "source": [
    "# dir, hasattr e getattr e setattr em Python\n",
    "\n",
    "string = 'Luiz'\n",
    "\n",
    "print(string)\n",
    "\n",
    "#ao debugar o codigo o 'dir' vai mostrar todos os nomes (metodos) que existem\n",
    "# dentro desse objeto"
   ]
  },
  {
   "cell_type": "code",
   "execution_count": 4,
   "metadata": {},
   "outputs": [
    {
     "name": "stdout",
     "output_type": "stream",
     "text": [
      "Existe lower\n",
      "LUIZ\n"
     ]
    }
   ],
   "source": [
    "if hasattr(string, 'lower'):\n",
    "    print('Existe lower')\n",
    "    print(string.upper())"
   ]
  }
 ],
 "metadata": {
  "kernelspec": {
   "display_name": "Python 3",
   "language": "python",
   "name": "python3"
  },
  "language_info": {
   "codemirror_mode": {
    "name": "ipython",
    "version": 3
   },
   "file_extension": ".py",
   "mimetype": "text/x-python",
   "name": "python",
   "nbconvert_exporter": "python",
   "pygments_lexer": "ipython3",
   "version": "3.11.7"
  }
 },
 "nbformat": 4,
 "nbformat_minor": 2
}
